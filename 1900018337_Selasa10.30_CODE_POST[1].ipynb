{
 "cells": [
  {
   "cell_type": "code",
   "execution_count": 1,
   "id": "e55f019d",
   "metadata": {},
   "outputs": [],
   "source": [
    "X = -2 #deklarasikan sebuah variabel X yaitu sama dengan -2\n",
    "Y = 5 #deklarasikan sebuah variabel Y yaitu sama dengan 5"
   ]
  },
  {
   "cell_type": "code",
   "execution_count": 2,
   "id": "d65e6434",
   "metadata": {},
   "outputs": [
    {
     "data": {
      "text/plain": [
       "3"
      ]
     },
     "execution_count": 2,
     "metadata": {},
     "output_type": "execute_result"
    }
   ],
   "source": [
    "X+Y #melakukan operasi penjumlahan X dan Y"
   ]
  },
  {
   "cell_type": "code",
   "execution_count": 3,
   "id": "2ee4f6dc",
   "metadata": {},
   "outputs": [
    {
     "data": {
      "text/plain": [
       "3"
      ]
     },
     "execution_count": 3,
     "metadata": {},
     "output_type": "execute_result"
    }
   ],
   "source": [
    "X%Y #melakukan operasi modulus X dan Y"
   ]
  },
  {
   "cell_type": "code",
   "execution_count": 4,
   "id": "5d65f064",
   "metadata": {},
   "outputs": [
    {
     "data": {
      "text/plain": [
       "-32"
      ]
     },
     "execution_count": 4,
     "metadata": {},
     "output_type": "execute_result"
    }
   ],
   "source": [
    "X**Y #melakukan operasi perpangkatan antara X dan Y"
   ]
  },
  {
   "cell_type": "code",
   "execution_count": 5,
   "id": "df25aa51",
   "metadata": {},
   "outputs": [],
   "source": [
    "A = 5 > 2 #menginisialisasi variabel A sama dengan True karena 5 lebih besar dari 2 (benar)\n",
    "B = 0    #menginisialisasi variabel B sama dengan 0 (False)"
   ]
  },
  {
   "cell_type": "code",
   "execution_count": 6,
   "id": "bd51c375",
   "metadata": {},
   "outputs": [
    {
     "data": {
      "text/plain": [
       "0"
      ]
     },
     "execution_count": 6,
     "metadata": {},
     "output_type": "execute_result"
    }
   ],
   "source": [
    "A and B #operasi logika and antara A dan B"
   ]
  },
  {
   "cell_type": "code",
   "execution_count": 7,
   "id": "c533f5cd",
   "metadata": {},
   "outputs": [
    {
     "data": {
      "text/plain": [
       "True"
      ]
     },
     "execution_count": 7,
     "metadata": {},
     "output_type": "execute_result"
    }
   ],
   "source": [
    "A or B #operasi logika or antara A dan B"
   ]
  },
  {
   "cell_type": "code",
   "execution_count": 8,
   "id": "e8ee4863",
   "metadata": {},
   "outputs": [],
   "source": [
    "L = [1,0.6,'abcd',100,-4.5] #membuat sebuah list dengan variabel L dan didalamnya berisi integer, string dan float"
   ]
  },
  {
   "cell_type": "code",
   "execution_count": 9,
   "id": "67804f8a",
   "metadata": {},
   "outputs": [],
   "source": [
    "L.remove(1) #menghapus list 1"
   ]
  },
  {
   "cell_type": "code",
   "execution_count": 10,
   "id": "8b428611",
   "metadata": {},
   "outputs": [
    {
     "data": {
      "text/plain": [
       "[0.6, 'abcd', 100, -4.5]"
      ]
     },
     "execution_count": 10,
     "metadata": {},
     "output_type": "execute_result"
    }
   ],
   "source": [
    "L #menampilkan list L"
   ]
  },
  {
   "cell_type": "code",
   "execution_count": 11,
   "id": "b8bf5e3d",
   "metadata": {},
   "outputs": [],
   "source": [
    "del L[-1] #menghapus list L indeks ke -1"
   ]
  },
  {
   "cell_type": "code",
   "execution_count": 12,
   "id": "68a1f913",
   "metadata": {},
   "outputs": [
    {
     "data": {
      "text/plain": [
       "[0.6, 'abcd', 100]"
      ]
     },
     "execution_count": 12,
     "metadata": {},
     "output_type": "execute_result"
    }
   ],
   "source": [
    "L #menampilkan list L"
   ]
  },
  {
   "cell_type": "code",
   "execution_count": 13,
   "id": "103e84f3",
   "metadata": {},
   "outputs": [],
   "source": [
    "D = {'nama':'Ismi','usia':32,'agama':'islam'} #membuat Dictionary dengan variabel D berisi data pribadi"
   ]
  },
  {
   "cell_type": "code",
   "execution_count": 14,
   "id": "77611ab4",
   "metadata": {},
   "outputs": [
    {
     "data": {
      "text/plain": [
       "{'nama': 'Ismi', 'usia': 32, 'agama': 'islam'}"
      ]
     },
     "execution_count": 14,
     "metadata": {},
     "output_type": "execute_result"
    }
   ],
   "source": [
    "D #menampilkan isi dari Dictionary D"
   ]
  },
  {
   "cell_type": "code",
   "execution_count": 15,
   "id": "f7e61a40",
   "metadata": {},
   "outputs": [],
   "source": [
    "del D['agama'] #menghapus data Dictionary 'agama' pada variabel D"
   ]
  },
  {
   "cell_type": "code",
   "execution_count": 16,
   "id": "9373f424",
   "metadata": {},
   "outputs": [
    {
     "data": {
      "text/plain": [
       "'Ismi'"
      ]
     },
     "execution_count": 16,
     "metadata": {},
     "output_type": "execute_result"
    }
   ],
   "source": [
    "D['nama'] #menampilkan data Dictionary 'nama'"
   ]
  },
  {
   "cell_type": "code",
   "execution_count": 17,
   "id": "59765418",
   "metadata": {},
   "outputs": [
    {
     "data": {
      "text/plain": [
       "32"
      ]
     },
     "execution_count": 17,
     "metadata": {},
     "output_type": "execute_result"
    }
   ],
   "source": [
    "D['usia'] #menampilkan data Dictionary 'usia'"
   ]
  },
  {
   "cell_type": "code",
   "execution_count": 18,
   "id": "3530abe1",
   "metadata": {},
   "outputs": [
    {
     "data": {
      "text/plain": [
       "{'nama': 'Ismi', 'usia': 32}"
      ]
     },
     "execution_count": 18,
     "metadata": {},
     "output_type": "execute_result"
    }
   ],
   "source": [
    "D #menampilkan Dictionary D"
   ]
  },
  {
   "cell_type": "code",
   "execution_count": null,
   "id": "435ec4c2",
   "metadata": {},
   "outputs": [],
   "source": []
  }
 ],
 "metadata": {
  "kernelspec": {
   "display_name": "Python 3",
   "language": "python",
   "name": "python3"
  },
  "language_info": {
   "codemirror_mode": {
    "name": "ipython",
    "version": 3
   },
   "file_extension": ".py",
   "mimetype": "text/x-python",
   "name": "python",
   "nbconvert_exporter": "python",
   "pygments_lexer": "ipython3",
   "version": "3.8.8"
  }
 },
 "nbformat": 4,
 "nbformat_minor": 5
}
