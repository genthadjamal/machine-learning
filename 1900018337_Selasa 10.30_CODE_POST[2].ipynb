{
 "cells": [
  {
   "cell_type": "code",
   "execution_count": 38,
   "id": "7e8419a0",
   "metadata": {},
   "outputs": [],
   "source": [
    "#Mengimpor Library yang dibutuhkan\n",
    "import numpy as np\n",
    "import matplotlib.pyplot as plt\n",
    "import pandas as pd\n",
    "from sklearn import datasets, linear_model\n",
    "from sklearn.metrics import mean_squared_error\n",
    "from math import sqrt"
   ]
  },
  {
   "cell_type": "code",
   "execution_count": 28,
   "id": "18207d0f",
   "metadata": {},
   "outputs": [],
   "source": [
    "#import dataset, saya mengubah data yang di soal menjadi ke dalam format csv dan menjadikannya dataset\n",
    "dataset = pd.read_csv(\"C:/Users/ASUS/Downloads/data_pemuda.csv\")\n",
    "X = dataset.iloc[:, :-1].values\n",
    "y = dataset.iloc[:, 1].values"
   ]
  },
  {
   "cell_type": "code",
   "execution_count": 29,
   "id": "203fddd8",
   "metadata": {},
   "outputs": [],
   "source": [
    "#membagi data menjadi data training dan testing dan gunakan\n",
    "from sklearn.model_selection import train_test_split\n",
    "X_train, X_test, y_train, y_test = train_test_split(X, y, test_size = 1/2, random_state = 0)"
   ]
  },
  {
   "cell_type": "code",
   "execution_count": 30,
   "id": "54aad9aa",
   "metadata": {},
   "outputs": [
    {
     "data": {
      "text/plain": [
       "LinearRegression()"
      ]
     },
     "execution_count": 30,
     "metadata": {},
     "output_type": "execute_result"
    }
   ],
   "source": [
    "#mengimpor class LinearRegression dari library sklearn.linear_model yang diperlukan untuk membuat model regresi\n",
    "from sklearn.linear_model import LinearRegression\n",
    "regressor = LinearRegression()\n",
    "regressor.fit(X_train, y_train)"
   ]
  },
  {
   "cell_type": "code",
   "execution_count": 31,
   "id": "69438dd9",
   "metadata": {},
   "outputs": [],
   "source": [
    "# membuat prediksi dengan menggunakan metode .predict\n",
    "y_pred = regressor.predict(X_test)"
   ]
  },
  {
   "cell_type": "code",
   "execution_count": 32,
   "id": "6eb86b2f",
   "metadata": {},
   "outputs": [
    {
     "data": {
      "text/plain": [
       "<function matplotlib.pyplot.show(close=None, block=None)>"
      ]
     },
     "execution_count": 32,
     "metadata": {},
     "output_type": "execute_result"
    },
    {
     "data": {
      "image/png": "[encoded data removed]",
      "text/plain": [
       "<Figure size 432x288 with 1 Axes>"
      ]
     },
     "metadata": {
      "needs_background": "light"
     },
     "output_type": "display_data"
    }
   ],
   "source": [
    "plt.scatter(X_train, y_train, color='red')\n",
    "plt.plot(X_train, regressor.predict(X_train),color = 'blue')\n",
    "plt.title('Penghasilan vs Usia Nikah (Training set)')\n",
    "plt.xlabel('Penghasilan')\n",
    "plt.ylabel('Usia')\n",
    "plt.show"
   ]
  },
  {
   "cell_type": "code",
   "execution_count": 33,
   "id": "f4c455a9",
   "metadata": {},
   "outputs": [
    {
     "data": {
      "image/png": "[encoded data removed]",
      "text/plain": [
       "<Figure size 432x288 with 1 Axes>"
      ]
     },
     "metadata": {
      "needs_background": "light"
     },
     "output_type": "display_data"
    }
   ],
   "source": [
    "plt.scatter(X_test, y_test, color = 'red')\n",
    "plt.plot(X_train, regressor.predict(X_train),color = 'blue')\n",
    "plt.title('Penghasilan vs Usia Nikah (Test set)')\n",
    "plt.xlabel('Penghasilan')\n",
    "plt.ylabel('Usia')\n",
    "plt.show()"
   ]
  },
  {
   "cell_type": "code",
   "execution_count": 34,
   "id": "d0bbc338",
   "metadata": {},
   "outputs": [
    {
     "name": "stdout",
     "output_type": "stream",
     "text": [
      "1.8664413318497635\n"
     ]
    }
   ],
   "source": [
    "#membuat model target predict dan rmse yang nanti nya akan dihitung dan ditampilkan hasilnya\n",
    "target_predict = regressor.predict(X_train)\n",
    "rmse = (np.sqrt(mean_squared_error(y_test, target_predict)))\n",
    "\n",
    "print(rmse)"
   ]
  },
  {
   "cell_type": "code",
   "execution_count": 35,
   "id": "bdc9a1e1",
   "metadata": {},
   "outputs": [
    {
     "name": "stdout",
     "output_type": "stream",
     "text": [
      "[23.98924872]\n"
     ]
    }
   ],
   "source": [
    "print(regressor.predict([[5.25]]))"
   ]
  },
  {
   "cell_type": "code",
   "execution_count": 36,
   "id": "541a1528",
   "metadata": {},
   "outputs": [
    {
     "name": "stdout",
     "output_type": "stream",
     "text": [
      "[21.70735838]\n"
     ]
    }
   ],
   "source": [
    "print(regressor.predict([[6.6]]))"
   ]
  },
  {
   "cell_type": "code",
   "execution_count": 37,
   "id": "328ce130",
   "metadata": {},
   "outputs": [
    {
     "name": "stdout",
     "output_type": "stream",
     "text": [
      "[20.69318489]\n"
     ]
    }
   ],
   "source": [
    "print(regressor.predict([[7.2]]))"
   ]
  },
  {
   "cell_type": "code",
   "execution_count": null,
   "id": "9df4dc86",
   "metadata": {},
   "outputs": [],
   "source": []
  }
 ],
 "metadata": {
  "kernelspec": {
   "display_name": "Python 3",
   "language": "python",
   "name": "python3"
  },
  "language_info": {
   "codemirror_mode": {
    "name": "ipython",
    "version": 3
   },
   "file_extension": ".py",
   "mimetype": "text/x-python",
   "name": "python",
   "nbconvert_exporter": "python",
   "pygments_lexer": "ipython3",
   "version": "3.8.8"
  }
 },
 "nbformat": 4,
 "nbformat_minor": 5
}
