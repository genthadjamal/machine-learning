{
 "cells": [
  {
   "cell_type": "code",
   "execution_count": 1,
   "id": "1deed263",
   "metadata": {},
   "outputs": [
    {
     "name": "stdout",
     "output_type": "stream",
     "text": [
      "Hello World\n"
     ]
    }
   ],
   "source": [
    "print(\"Hello World\")"
   ]
  },
  {
   "cell_type": "code",
   "execution_count": 2,
   "id": "a8a19fd4",
   "metadata": {},
   "outputs": [],
   "source": [
    "a = 5\n",
    "b = 7"
   ]
  },
  {
   "cell_type": "code",
   "execution_count": 3,
   "id": "8143dcb2",
   "metadata": {},
   "outputs": [
    {
     "data": {
      "text/plain": [
       "12"
      ]
     },
     "execution_count": 3,
     "metadata": {},
     "output_type": "execute_result"
    }
   ],
   "source": [
    "a + b"
   ]
  },
  {
   "cell_type": "code",
   "execution_count": 4,
   "id": "c93c3ce7",
   "metadata": {},
   "outputs": [
    {
     "data": {
      "text/plain": [
       "-2"
      ]
     },
     "execution_count": 4,
     "metadata": {},
     "output_type": "execute_result"
    }
   ],
   "source": [
    "a - b"
   ]
  },
  {
   "cell_type": "code",
   "execution_count": 5,
   "id": "23f4da9f",
   "metadata": {},
   "outputs": [
    {
     "data": {
      "text/plain": [
       "35"
      ]
     },
     "execution_count": 5,
     "metadata": {},
     "output_type": "execute_result"
    }
   ],
   "source": [
    "a * b"
   ]
  },
  {
   "cell_type": "code",
   "execution_count": 6,
   "id": "32780b2a",
   "metadata": {},
   "outputs": [
    {
     "data": {
      "text/plain": [
       "0.7142857142857143"
      ]
     },
     "execution_count": 6,
     "metadata": {},
     "output_type": "execute_result"
    }
   ],
   "source": [
    "a/b"
   ]
  },
  {
   "cell_type": "code",
   "execution_count": 7,
   "id": "2e11916c",
   "metadata": {},
   "outputs": [
    {
     "data": {
      "text/plain": [
       "78125"
      ]
     },
     "execution_count": 7,
     "metadata": {},
     "output_type": "execute_result"
    }
   ],
   "source": [
    "a**b"
   ]
  },
  {
   "cell_type": "code",
   "execution_count": 8,
   "id": "0d73cc34",
   "metadata": {},
   "outputs": [
    {
     "data": {
      "text/plain": [
       "5"
      ]
     },
     "execution_count": 8,
     "metadata": {},
     "output_type": "execute_result"
    }
   ],
   "source": [
    "a%b"
   ]
  },
  {
   "cell_type": "code",
   "execution_count": 9,
   "id": "0c3b8f5e",
   "metadata": {},
   "outputs": [
    {
     "data": {
      "text/plain": [
       "True"
      ]
     },
     "execution_count": 9,
     "metadata": {},
     "output_type": "execute_result"
    }
   ],
   "source": [
    "a < b"
   ]
  },
  {
   "cell_type": "code",
   "execution_count": 10,
   "id": "d6dd4ec4",
   "metadata": {},
   "outputs": [
    {
     "data": {
      "text/plain": [
       "False"
      ]
     },
     "execution_count": 10,
     "metadata": {},
     "output_type": "execute_result"
    }
   ],
   "source": [
    "a > b"
   ]
  },
  {
   "cell_type": "code",
   "execution_count": 11,
   "id": "8fb98434",
   "metadata": {},
   "outputs": [
    {
     "data": {
      "text/plain": [
       "True"
      ]
     },
     "execution_count": 11,
     "metadata": {},
     "output_type": "execute_result"
    }
   ],
   "source": [
    "a != b"
   ]
  },
  {
   "cell_type": "code",
   "execution_count": 12,
   "id": "03225b5c",
   "metadata": {},
   "outputs": [
    {
     "data": {
      "text/plain": [
       "False"
      ]
     },
     "execution_count": 12,
     "metadata": {},
     "output_type": "execute_result"
    }
   ],
   "source": [
    "a == b"
   ]
  },
  {
   "cell_type": "code",
   "execution_count": 13,
   "id": "4f6616e8",
   "metadata": {},
   "outputs": [
    {
     "data": {
      "text/plain": [
       "False"
      ]
     },
     "execution_count": 13,
     "metadata": {},
     "output_type": "execute_result"
    }
   ],
   "source": [
    "a >= b"
   ]
  },
  {
   "cell_type": "code",
   "execution_count": 14,
   "id": "ffc7b15e",
   "metadata": {},
   "outputs": [
    {
     "data": {
      "text/plain": [
       "True"
      ]
     },
     "execution_count": 14,
     "metadata": {},
     "output_type": "execute_result"
    }
   ],
   "source": [
    "a <= b"
   ]
  },
  {
   "cell_type": "code",
   "execution_count": 15,
   "id": "3af46ca6",
   "metadata": {},
   "outputs": [],
   "source": [
    "c = True\n",
    "d = False"
   ]
  },
  {
   "cell_type": "code",
   "execution_count": 16,
   "id": "060c5d1d",
   "metadata": {},
   "outputs": [
    {
     "data": {
      "text/plain": [
       "True"
      ]
     },
     "execution_count": 16,
     "metadata": {},
     "output_type": "execute_result"
    }
   ],
   "source": [
    "c or d"
   ]
  },
  {
   "cell_type": "code",
   "execution_count": 17,
   "id": "b9d49845",
   "metadata": {},
   "outputs": [
    {
     "data": {
      "text/plain": [
       "False"
      ]
     },
     "execution_count": 17,
     "metadata": {},
     "output_type": "execute_result"
    }
   ],
   "source": [
    "not c"
   ]
  },
  {
   "cell_type": "code",
   "execution_count": 18,
   "id": "d6e5ca1c",
   "metadata": {},
   "outputs": [
    {
     "data": {
      "text/plain": [
       "True"
      ]
     },
     "execution_count": 18,
     "metadata": {},
     "output_type": "execute_result"
    }
   ],
   "source": [
    "not d"
   ]
  },
  {
   "cell_type": "code",
   "execution_count": 19,
   "id": "34b2f0e5",
   "metadata": {},
   "outputs": [],
   "source": [
    "if (a>b):\n",
    "    print(\"a lebih besar dari b\")"
   ]
  },
  {
   "cell_type": "code",
   "execution_count": 20,
   "id": "70b01076",
   "metadata": {},
   "outputs": [
    {
     "name": "stdout",
     "output_type": "stream",
     "text": [
      "b lebih besar dari a\n"
     ]
    }
   ],
   "source": [
    "if (a>b):\n",
    "    print(\"a lebih besar dari b\")\n",
    "elif(b > a):\n",
    "    print(\"b lebih besar dari a\")\n",
    "else:\n",
    "    print(\"a dan b sama besar\")"
   ]
  },
  {
   "cell_type": "code",
   "execution_count": 21,
   "id": "ffc72286",
   "metadata": {},
   "outputs": [],
   "source": [
    "i = 1"
   ]
  },
  {
   "cell_type": "code",
   "execution_count": 22,
   "id": "d95e95e0",
   "metadata": {},
   "outputs": [
    {
     "name": "stdout",
     "output_type": "stream",
     "text": [
      "Kuliah Machine Learning\n",
      "Kuliah Machine Learning\n",
      "Kuliah Machine Learning\n",
      "Kuliah Machine Learning\n",
      "Kuliah Machine Learning\n"
     ]
    }
   ],
   "source": [
    "while (i<=a):\n",
    "    print(\"Kuliah Machine Learning\")\n",
    "    i=i+1"
   ]
  },
  {
   "cell_type": "code",
   "execution_count": 23,
   "id": "7e847e49",
   "metadata": {},
   "outputs": [],
   "source": [
    "listL = ['abcd',123,2.23,'efgh']"
   ]
  },
  {
   "cell_type": "code",
   "execution_count": 24,
   "id": "0317da42",
   "metadata": {},
   "outputs": [
    {
     "data": {
      "text/plain": [
       "'abcd'"
      ]
     },
     "execution_count": 24,
     "metadata": {},
     "output_type": "execute_result"
    }
   ],
   "source": [
    "listL[0]"
   ]
  },
  {
   "cell_type": "code",
   "execution_count": 25,
   "id": "8d6f3af6",
   "metadata": {},
   "outputs": [
    {
     "data": {
      "text/plain": [
       "123"
      ]
     },
     "execution_count": 25,
     "metadata": {},
     "output_type": "execute_result"
    }
   ],
   "source": [
    "listL[1]"
   ]
  },
  {
   "cell_type": "code",
   "execution_count": 26,
   "id": "3c39104f",
   "metadata": {},
   "outputs": [
    {
     "data": {
      "text/plain": [
       "2.23"
      ]
     },
     "execution_count": 26,
     "metadata": {},
     "output_type": "execute_result"
    }
   ],
   "source": [
    "listL[2]"
   ]
  },
  {
   "cell_type": "code",
   "execution_count": 27,
   "id": "e06fc2c9",
   "metadata": {},
   "outputs": [
    {
     "data": {
      "text/plain": [
       "'efgh'"
      ]
     },
     "execution_count": 27,
     "metadata": {},
     "output_type": "execute_result"
    }
   ],
   "source": [
    "listL[3]"
   ]
  },
  {
   "cell_type": "code",
   "execution_count": 28,
   "id": "70d4636e",
   "metadata": {},
   "outputs": [
    {
     "data": {
      "text/plain": [
       "'efgh'"
      ]
     },
     "execution_count": 28,
     "metadata": {},
     "output_type": "execute_result"
    }
   ],
   "source": [
    "listL[-1]"
   ]
  },
  {
   "cell_type": "code",
   "execution_count": 29,
   "id": "1ad4cfc9",
   "metadata": {},
   "outputs": [
    {
     "data": {
      "text/plain": [
       "2.23"
      ]
     },
     "execution_count": 29,
     "metadata": {},
     "output_type": "execute_result"
    }
   ],
   "source": [
    "listL[-2]"
   ]
  },
  {
   "cell_type": "code",
   "execution_count": 30,
   "id": "084740cf",
   "metadata": {},
   "outputs": [
    {
     "data": {
      "text/plain": [
       "123"
      ]
     },
     "execution_count": 30,
     "metadata": {},
     "output_type": "execute_result"
    }
   ],
   "source": [
    "listL[-3]"
   ]
  },
  {
   "cell_type": "code",
   "execution_count": 31,
   "id": "ba956db1",
   "metadata": {},
   "outputs": [
    {
     "data": {
      "text/plain": [
       "'abcd'"
      ]
     },
     "execution_count": 31,
     "metadata": {},
     "output_type": "execute_result"
    }
   ],
   "source": [
    "listL[-4]"
   ]
  },
  {
   "cell_type": "code",
   "execution_count": 32,
   "id": "c54a5e23",
   "metadata": {},
   "outputs": [],
   "source": [
    "del listL[0]"
   ]
  },
  {
   "cell_type": "code",
   "execution_count": 33,
   "id": "e3b19102",
   "metadata": {},
   "outputs": [
    {
     "data": {
      "text/plain": [
       "[123, 2.23, 'efgh']"
      ]
     },
     "execution_count": 33,
     "metadata": {},
     "output_type": "execute_result"
    }
   ],
   "source": [
    "listL"
   ]
  },
  {
   "cell_type": "code",
   "execution_count": 34,
   "id": "4d19657f",
   "metadata": {},
   "outputs": [],
   "source": [
    "listL.remove('efgh')"
   ]
  },
  {
   "cell_type": "code",
   "execution_count": 35,
   "id": "a754a5a5",
   "metadata": {},
   "outputs": [
    {
     "data": {
      "text/plain": [
       "[123, 2.23]"
      ]
     },
     "execution_count": 35,
     "metadata": {},
     "output_type": "execute_result"
    }
   ],
   "source": [
    "listL"
   ]
  },
  {
   "cell_type": "code",
   "execution_count": 36,
   "id": "2aed6108",
   "metadata": {},
   "outputs": [],
   "source": [
    "listD = ['xyz', listL]"
   ]
  },
  {
   "cell_type": "code",
   "execution_count": 37,
   "id": "aa22d141",
   "metadata": {},
   "outputs": [
    {
     "data": {
      "text/plain": [
       "['xyz', [123, 2.23]]"
      ]
     },
     "execution_count": 37,
     "metadata": {},
     "output_type": "execute_result"
    }
   ],
   "source": [
    "listD"
   ]
  },
  {
   "cell_type": "code",
   "execution_count": 38,
   "id": "6ca32263",
   "metadata": {},
   "outputs": [],
   "source": [
    "NamaSiswa = (\"Kartika\",\"Annisa\",\"Zahrotul\",\"Zelma\",\"Noval\")"
   ]
  },
  {
   "cell_type": "code",
   "execution_count": 39,
   "id": "3ff84259",
   "metadata": {},
   "outputs": [
    {
     "data": {
      "text/plain": [
       "('Kartika', 'Annisa', 'Zahrotul', 'Zelma', 'Noval')"
      ]
     },
     "execution_count": 39,
     "metadata": {},
     "output_type": "execute_result"
    }
   ],
   "source": [
    "NamaSiswa"
   ]
  },
  {
   "cell_type": "code",
   "execution_count": 40,
   "id": "18bf5e5b",
   "metadata": {},
   "outputs": [
    {
     "ename": "AttributeError",
     "evalue": "'tuple' object has no attribute 'remove'",
     "output_type": "error",
     "traceback": [
      "\u001b[1;31m---------------------------------------------------------------------------\u001b[0m",
      "\u001b[1;31mAttributeError\u001b[0m                            Traceback (most recent call last)",
      "\u001b[1;32m<ipython-input-40-348a203f0960>\u001b[0m in \u001b[0;36m<module>\u001b[1;34m\u001b[0m\n\u001b[1;32m----> 1\u001b[1;33m \u001b[0mNamaSiswa\u001b[0m\u001b[1;33m.\u001b[0m\u001b[0mremove\u001b[0m\u001b[1;33m(\u001b[0m\u001b[1;34m'Kartika'\u001b[0m\u001b[1;33m)\u001b[0m\u001b[1;33m\u001b[0m\u001b[1;33m\u001b[0m\u001b[0m\n\u001b[0m",
      "\u001b[1;31mAttributeError\u001b[0m: 'tuple' object has no attribute 'remove'"
     ]
    }
   ],
   "source": [
    "NamaSiswa.remove('Kartika')"
   ]
  },
  {
   "cell_type": "code",
   "execution_count": 41,
   "id": "b8f0f4de",
   "metadata": {},
   "outputs": [
    {
     "ename": "TypeError",
     "evalue": "'tuple' object does not support item assignment",
     "output_type": "error",
     "traceback": [
      "\u001b[1;31m---------------------------------------------------------------------------\u001b[0m",
      "\u001b[1;31mTypeError\u001b[0m                                 Traceback (most recent call last)",
      "\u001b[1;32m<ipython-input-41-292ab0febf9e>\u001b[0m in \u001b[0;36m<module>\u001b[1;34m\u001b[0m\n\u001b[1;32m----> 1\u001b[1;33m \u001b[0mNamaSiswa\u001b[0m\u001b[1;33m[\u001b[0m\u001b[1;36m0\u001b[0m\u001b[1;33m]\u001b[0m\u001b[1;33m=\u001b[0m\u001b[1;34m'Anna'\u001b[0m\u001b[1;33m\u001b[0m\u001b[1;33m\u001b[0m\u001b[0m\n\u001b[0m",
      "\u001b[1;31mTypeError\u001b[0m: 'tuple' object does not support item assignment"
     ]
    }
   ],
   "source": [
    "NamaSiswa[0]='Anna'"
   ]
  },
  {
   "cell_type": "code",
   "execution_count": 42,
   "id": "68731d61",
   "metadata": {},
   "outputs": [],
   "source": [
    "DataAzzam = {'nama':'azzam','alamat':'malang','jurusan':'fisika','nim':1234}"
   ]
  },
  {
   "cell_type": "code",
   "execution_count": 43,
   "id": "f33c3822",
   "metadata": {},
   "outputs": [
    {
     "data": {
      "text/plain": [
       "{'nama': 'azzam', 'alamat': 'malang', 'jurusan': 'fisika', 'nim': 1234}"
      ]
     },
     "execution_count": 43,
     "metadata": {},
     "output_type": "execute_result"
    }
   ],
   "source": [
    "DataAzzam"
   ]
  },
  {
   "cell_type": "code",
   "execution_count": 44,
   "id": "46188be7",
   "metadata": {},
   "outputs": [
    {
     "data": {
      "text/plain": [
       "'malang'"
      ]
     },
     "execution_count": 44,
     "metadata": {},
     "output_type": "execute_result"
    }
   ],
   "source": [
    "DataAzzam['alamat']"
   ]
  },
  {
   "cell_type": "code",
   "execution_count": 45,
   "id": "c4fbca96",
   "metadata": {},
   "outputs": [
    {
     "data": {
      "text/plain": [
       "'fisika'"
      ]
     },
     "execution_count": 45,
     "metadata": {},
     "output_type": "execute_result"
    }
   ],
   "source": [
    "DataAzzam['jurusan']"
   ]
  },
  {
   "cell_type": "code",
   "execution_count": 46,
   "id": "9cfb6b81",
   "metadata": {},
   "outputs": [],
   "source": [
    "del DataAzzam['nim']"
   ]
  },
  {
   "cell_type": "code",
   "execution_count": 47,
   "id": "e267bc63",
   "metadata": {},
   "outputs": [
    {
     "data": {
      "text/plain": [
       "{'nama': 'azzam', 'alamat': 'malang', 'jurusan': 'fisika'}"
      ]
     },
     "execution_count": 47,
     "metadata": {},
     "output_type": "execute_result"
    }
   ],
   "source": [
    "DataAzzam"
   ]
  },
  {
   "cell_type": "code",
   "execution_count": null,
   "id": "082a46d6",
   "metadata": {},
   "outputs": [],
   "source": []
  }
 ],
 "metadata": {
  "kernelspec": {
   "display_name": "Python 3",
   "language": "python",
   "name": "python3"
  },
  "language_info": {
   "codemirror_mode": {
    "name": "ipython",
    "version": 3
   },
   "file_extension": ".py",
   "mimetype": "text/x-python",
   "name": "python",
   "nbconvert_exporter": "python",
   "pygments_lexer": "ipython3",
   "version": "3.8.8"
  }
 },
 "nbformat": 4,
 "nbformat_minor": 5
}
